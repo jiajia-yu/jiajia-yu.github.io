{
 "cells": [
  {
   "cell_type": "markdown",
   "metadata": {
    "id": "9366a4c7"
   },
   "source": [
    "# Math 466 Spring 2025: Homework 2\n",
    "\n",
    "###  Due Th Feb 27th, 10pm EST\n",
    "\n",
    "\n",
    "Please give your NAME in the handin file.\n",
    "\n"
   ]
  },
  {
   "cell_type": "markdown",
   "metadata": {
    "id": "d2564a89"
   },
   "source": [
    "---"
   ]
  },
  {
   "cell_type": "code",
   "execution_count": 1,
   "id": "11d6bcb4",
   "metadata": {},
   "outputs": [],
   "source": [
    "import numpy as np\n",
    "import matplotlib.pyplot as plt\n",
    "\n",
    "from sklearn.datasets import make_sparse_coded_signal\n",
    "\n",
    "random_state = 2025"
   ]
  },
  {
   "cell_type": "markdown",
   "metadata": {
    "id": "c53bdedd"
   },
   "source": [
    "----\n",
    "\n",
    "**Problem 3** "
   ]
  },
  {
   "cell_type": "code",
   "execution_count": 2,
   "id": "1e79ea74",
   "metadata": {},
   "outputs": [],
   "source": [
    "# generate some sparse data to play with\n",
    "n_samples, n_features = 1000, 200\n",
    "n_nonzero = 40\n",
    "\n",
    "# Random dataset\n",
    "X = np.random.randn(n_samples, n_features)  # Random dataset\n",
    "# Sparse true weights\n",
    "w_true = np.zeros(n_features)\n",
    "idx = np.random.choice(n_features, n_nonzero, replace=False)\n",
    "w_true[idx] = np.random.randn(n_nonzero) \n",
    "# Generate noisy observations\n",
    "y = X @ w_true + 0.1 * np.random.randn(n_samples)  \n"
   ]
  },
  {
   "cell_type": "code",
   "execution_count": 3,
   "id": "3123e5e4",
   "metadata": {},
   "outputs": [
    {
     "data": {
      "text/plain": [
       "<StemContainer object of 3 artists>"
      ]
     },
     "execution_count": 3,
     "metadata": {},
     "output_type": "execute_result"
    },
    {
     "data": {
      "image/png": "[encoded data removed]",
      "text/plain": [
       "<Figure size 700x300 with 1 Axes>"
      ]
     },
     "metadata": {},
     "output_type": "display_data"
    }
   ],
   "source": [
    "# plot the sparse signal\n",
    "plt.figure(figsize=(7, 3))\n",
    "plt.subplot(1, 1, 1)\n",
    "plt.xlim(0, n_features)\n",
    "plt.title(\"Sparse signal\")\n",
    "plt.stem(idx,w_true[idx])\n"
   ]
  },
  {
   "cell_type": "code",
   "execution_count": 4,
   "id": "3562906b",
   "metadata": {},
   "outputs": [],
   "source": [
    "# fill in the following functions\n",
    "def soft_thresholding(x, threshold):\n",
    "\n",
    "    return \n",
    "\n",
    "\n",
    "# Compute the LASSO objective function\n",
    "def lasso_objective(X, y, w, lambda_reg):\n",
    "\n",
    "    return \n",
    "\n",
    "# Stochastic Proximal Gradient Descent for LASSO with objective tracking\n",
    "def stochastic_proximal_gradient(X, y, lambda_reg=0.1, lr=0.01, epochs=100, batch_size=1):\n",
    "    \"\"\"\n",
    "    X: Input feature matrix (n_samples, n_features)\n",
    "    y: Target values (n_samples,)\n",
    "    lambda_reg: Regularization parameter (lambda)\n",
    "    lr: Learning rate (step size)\n",
    "    epochs: Number of passes over the dataset\n",
    "    batch_size: Number of samples per stochastic update\n",
    "    \"\"\"\n",
    "    n_samples, n_features = X.shape\n",
    "    w = np.zeros(n_features)  # Initialize weights\n",
    "    objs = []  # Store objective values\n",
    "\n",
    "    for epoch in range(epochs):\n",
    "        # Shuffle data at the beginning of each epoch\n",
    "        indices = np.random.permutation(n_samples)\n",
    "        X, y = X[indices], y[indices]\n",
    "\n",
    "        # fill in this section\n",
    "        #----------------------------------------\n",
    "        for i in range(0, n_samples, batch_size):\n",
    "            # Select a mini-batch\n",
    "            batch_X = X[i:i + batch_size]\n",
    "            batch_y = y[i:i + batch_size]\n",
    "\n",
    "        #----------------------------------------\n",
    "        # Record the objective function value\n",
    "        objs.append(lasso_objective(X, y, w, lambda_reg))\n",
    "\n",
    "    return w, objs\n"
   ]
  },
  {
   "cell_type": "code",
   "execution_count": 5,
   "id": "488c783d",
   "metadata": {},
   "outputs": [],
   "source": [
    "# Run Stochastic Proximal Gradient Method for LASSO\n",
    "lambda_reg = 0.05  # Regularization strength\n",
    "lr = 0.01         # Learning rate\n",
    "epochs = 200      # Number of epochs\n",
    "batch_size = 10   # Mini-batch size\n",
    "\n",
    "w_num, objs = stochastic_proximal_gradient(X, y, lambda_reg, lr, epochs, batch_size)\n"
   ]
  },
  {
   "cell_type": "markdown",
   "metadata": {
    "id": "7f150f53"
   },
   "source": [
    "---"
   ]
  }
 ],
 "metadata": {
  "colab": {
   "provenance": []
  },
  "kernelspec": {
   "display_name": "Python 3",
   "language": "python",
   "name": "python3"
  },
  "language_info": {
   "codemirror_mode": {
    "name": "ipython",
    "version": 3
   },
   "file_extension": ".py",
   "mimetype": "text/x-python",
   "name": "python",
   "nbconvert_exporter": "python",
   "pygments_lexer": "ipython3",
   "version": "3.12.2"
  }
 },
 "nbformat": 4,
 "nbformat_minor": 5
}
